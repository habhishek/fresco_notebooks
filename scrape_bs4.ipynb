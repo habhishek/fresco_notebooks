{
 "cells": [
  {
   "cell_type": "code",
   "execution_count": 31,
   "metadata": {},
   "outputs": [],
   "source": [
    "import re\n",
    "from bs4 import BeautifulSoup"
   ]
  },
  {
   "cell_type": "code",
   "execution_count": 2,
   "metadata": {},
   "outputs": [],
   "source": [
    "ITEM_HTML = '''<html><head></head><body>\n",
    "<li class=\"col-xs-6 col-sm-4 col-md-3 col-lg-3\">\n",
    "    <article class=\"product_pod\">\n",
    "            <div class=\"image_container\">\n",
    "                    <a href=\"catalogue/a-light-in-the-attic_1000/index.html\"><img src=\"media/cache/2c/da/2cdad67c44b002e7ead0cc35693c0e8b.jpg\" alt=\"A Light in the Attic\" class=\"thumbnail\"></a>\n",
    "            </div>\n",
    "                <p class=\"star-rating Three\">\n",
    "                    <i class=\"icon-star\"></i>\n",
    "                    <i class=\"icon-star\"></i>\n",
    "                    <i class=\"icon-star\"></i>\n",
    "                    <i class=\"icon-star\"></i>\n",
    "                    <i class=\"icon-star\"></i>\n",
    "                </p>\n",
    "            <h3><a href=\"catalogue/a-light-in-the-attic_1000/index.html\" title=\"A Light in the Attic\">A Light in the ...</a></h3>\n",
    "            <div class=\"product_price\">\n",
    "        <p class=\"price_color\">£51.77</p>\n",
    "<p class=\"instock availability\">\n",
    "    <i class=\"icon-ok\"></i>\n",
    "        In stock\n",
    "</p>\n",
    "    <form>\n",
    "        <button type=\"submit\" class=\"btn btn-primary btn-block\" data-loading-text=\"Adding...\">Add to basket</button>\n",
    "    </form>\n",
    "            </div>\n",
    "    </article>\n",
    "</li>\n",
    "</body></html>\n",
    "'''"
   ]
  },
  {
   "cell_type": "code",
   "execution_count": 3,
   "metadata": {},
   "outputs": [],
   "source": [
    "soup = BeautifulSoup(ITEM_HTML, 'html.parser')"
   ]
  },
  {
   "cell_type": "markdown",
   "metadata": {},
   "source": [
    "## CSS Locator search method\n",
    "### idea to locate the element is to find its parent and give that to a locator variable###\n",
    "\n",
    "If we need to find the article name - we can see that it is under the 'a' tag, which is in 'h3' tag, which in turn is under\n",
    "the 'article' tag"
   ]
  },
  {
   "cell_type": "code",
   "execution_count": 27,
   "metadata": {},
   "outputs": [],
   "source": [
    "def find_item_name():\n",
    "    locator = 'article.product_pod h3 a' # we are looking for article that has class - product pod as seen in the html\n",
    "    item_link = soup.select_one(locator) # only one such tag will be searched. If there is a list of such heirarcy, its not going to work\n",
    "    item_name = item_link.attrs['title']\n",
    "    print(item_name)"
   ]
  },
  {
   "cell_type": "code",
   "execution_count": 26,
   "metadata": {},
   "outputs": [
    {
     "name": "stdout",
     "output_type": "stream",
     "text": [
      "A Light in the Attic\n"
     ]
    }
   ],
   "source": [
    "find_item_name()"
   ]
  },
  {
   "cell_type": "markdown",
   "metadata": {},
   "source": [
    "Find a link to this items page using the locator method"
   ]
  },
  {
   "cell_type": "code",
   "execution_count": 29,
   "metadata": {},
   "outputs": [],
   "source": [
    "def find_item_link():\n",
    "    locator = 'article.product_pod h3 a'\n",
    "    item_link = soup.select_one(locator)\n",
    "    link_to_product = item_link.attrs['href']\n",
    "    print(link_to_product)"
   ]
  },
  {
   "cell_type": "code",
   "execution_count": 30,
   "metadata": {},
   "outputs": [
    {
     "name": "stdout",
     "output_type": "stream",
     "text": [
      "catalogue/a-light-in-the-attic_1000/index.html\n"
     ]
    }
   ],
   "source": [
    "find_item_link()"
   ]
  },
  {
   "cell_type": "markdown",
   "metadata": {},
   "source": [
    "Access specific class of the tags using locator -\n",
    "Eg. Finding item-price from the above html - its located under **p.price_color** tag under the **article.product_pod** tag."
   ]
  },
  {
   "cell_type": "code",
   "execution_count": 54,
   "metadata": {},
   "outputs": [],
   "source": [
    "def find_item_price():\n",
    "    locator = 'article.product_pod p.price_color'\n",
    "    item_link = soup.select_one(locator)\n",
    "    price = item_link.string\n",
    "    \n",
    "    #Covert the above string into float using re\n",
    "    \n",
    "    pattern = '£([0-9]+\\.[0-9]+)'\n",
    "    matcher = re.search(pattern, price)\n",
    "    print(matcher.group(0)) #price with pound sign\n",
    "    print(matcher.group(1)) #price without pound sign - second group in the matched cases"
   ]
  },
  {
   "cell_type": "code",
   "execution_count": 55,
   "metadata": {},
   "outputs": [
    {
     "name": "stdout",
     "output_type": "stream",
     "text": [
      "£51.77\n",
      "51.77\n"
     ]
    }
   ],
   "source": [
    "find_item_price()"
   ]
  },
  {
   "cell_type": "markdown",
   "metadata": {},
   "source": [
    "Compile everything in one Class"
   ]
  },
  {
   "cell_type": "code",
   "execution_count": 57,
   "metadata": {},
   "outputs": [],
   "source": [
    "class ParsedItemLocators:\n",
    "    \"\"\"\n",
    "    Locators for an item in the HTML page.\n",
    "    This allows us to easily see what our code will be looking at\n",
    "    as well as change it quickly if we notice it is now different.\n",
    "    \"\"\"\n",
    "    NAME_LOCATOR = 'article.product_pod h3 a'\n",
    "    LINK_LOCATOR = 'article.product_pod h3 a'\n",
    "    PRICE_LOCATOR = 'article.product_pod p.price_color'\n",
    "    RATING_LOCATOR = 'article.product_pod p.star-rating'\n",
    "\n",
    "\n",
    "class ParsedItem:\n",
    "    def __init__(self, page):\n",
    "        self.soup = BeautifulSoup(page, 'html.parser')\n",
    "    \n",
    "    def find_item_name():\n",
    "        locator = ParsedItemLocators.NAME_LOCATOR # we are looking for article that has class - product pod as seen in the html\n",
    "        item_link = self.soup.select_one(locator) # only one such tag will be searched. If there is a list of such heirarcy, its not going to work\n",
    "        item_name = item_link.attrs['title']\n",
    "        print(item_name)\n",
    "    \n",
    "    def find_item_link():\n",
    "        locator = ParsedItemLocators.LINK_LOCATOR\n",
    "        item_link = self.soup.select_one(locator)\n",
    "        link_to_product = item_link.attrs['href']\n",
    "        print(link_to_product)\n",
    "    \n",
    "    def find_item_price():\n",
    "        locator = ParsedItemLocators.PRICE_LOCATOR\n",
    "        item_link = soup.select_one(locator)\n",
    "        price = item_link.string\n",
    "        \n",
    "        #Covert the above string into float using re\n",
    "        pattern = '£([0-9]+\\.[0-9]+)'\n",
    "        matcher = re.search(pattern, price)\n",
    "        print(matcher.group(1)) #price without pound sign - second group in the matched cases"
   ]
  },
  {
   "cell_type": "code",
   "execution_count": 59,
   "metadata": {},
   "outputs": [],
   "source": [
    "import requests"
   ]
  },
  {
   "cell_type": "code",
   "execution_count": null,
   "metadata": {},
   "outputs": [],
   "source": [
    "class quote_locators:\n",
    "    \"\"\"Locators for content inside a quote\"\"\"\n",
    "    \n",
    "    CONTENT = 'span.text'\n",
    "    AUTHOR = 'small.author'\n",
    "    TAGS = 'div.tags a.tag'\n",
    "\n",
    "\n",
    "class quote_page_locators:\n",
    "    \"\"\"Locators to find quote divisions inside an html page\"\"\"\n",
    "    \n",
    "    QUOTE = 'div.quote'\n",
    "    \n",
    "\n",
    "class QuoteParser:\n",
    "    \"\"\"take a parent tag of a quote and look for its content/author/tags\"\"\"\n",
    "    \n",
    "    def __init__(self, parent):\n",
    "        self.parent = parent\n",
    "    \n",
    "    def __repr__(self):\n",
    "        return f'<Quote {self.content}, by {self.author}>'\n",
    "    \n",
    "    @property\n",
    "    def content(self):\n",
    "        locator = quote_locators.CONTENT\n",
    "        return(self.parent.select_one(locator).string)\n",
    "    \n",
    "    @property\n",
    "    def author(self):\n",
    "        locator = quote_locators.AUTHOR\n",
    "        return(self.parent.select_one(locator).string)\n",
    "    \n",
    "    @property\n",
    "    def tags(self):\n",
    "        locator = quote_locators.TAGS\n",
    "        return(self.parent.select(locator))\n",
    "\n",
    "\n",
    "class QuotesPage:\n",
    "    \"\"\"take and html page of quotes and parse that to find all the quotes\"\"\"\n",
    "    \n",
    "    def __init__(self,page):\n",
    "        self.soup = BeautifulSoup(page, 'html.parser')\n",
    "    \n",
    "    @property\n",
    "    def quotes(self):\n",
    "        return[QuoteParser(e) for e in self.soup.select(quote_page_locators.QUOTE)]\n"
   ]
  },
  {
   "cell_type": "code",
   "execution_count": 84,
   "metadata": {},
   "outputs": [],
   "source": [
    "class ParsedItemLocators:\n",
    "    \"\"\"\n",
    "    Locators for an item in the HTML page.\n",
    "    This allows us to easily see what our code will be looking at\n",
    "    as well as change it quickly if we notice it is now different.\n",
    "    \"\"\"\n",
    "    NAME_LOCATOR = 'h3 a'\n",
    "    LINK_LOCATOR = 'h3 a'\n",
    "    PRICE_LOCATOR = 'p.price_color'\n",
    "    RATING_LOCATOR = 'p.star-rating'\n",
    "    \n",
    "class products_onpage_locators:\n",
    "    \"\"\"Locators to find quote divisions inside an html page\"\"\"\n",
    "    \n",
    "    PRODUCT = 'li article.product_pod'\n",
    "\n",
    "\n",
    "class ProductParser:\n",
    "    \"\"\"take a parent tag of a product and look for its name/link/price\"\"\"\n",
    "    \n",
    "    def __init__(self, parent):\n",
    "        self.parent = parent\n",
    "    \n",
    "    def __repr__(self):\n",
    "        return f'<Title {self.name} priced at {self.price}>'\n",
    "    \n",
    "    @property\n",
    "    def name(self):\n",
    "        locator = ParsedItemLocators.NAME_LOCATOR\n",
    "        return(self.parent.select_one(locator).attrs['title'])\n",
    "    \n",
    "    @property\n",
    "    def link(self):\n",
    "        locator = ParsedItemLocators.LINK_LOCATOR\n",
    "        return(self.parent.select_one(locator).attrs['href'])\n",
    "    \n",
    "    @property\n",
    "    def price(self):\n",
    "        locator = ParsedItemLocators.PRICE_LOCATOR\n",
    "        return(self.parent.select_one(locator).string)\n",
    "\n",
    "\n",
    "class ProductsPage:\n",
    "    \"\"\"take and html page of products and parse that to find all the product tags\"\"\"\n",
    "    \n",
    "    def __init__(self,page):\n",
    "        self.soup = BeautifulSoup(page, 'html.parser')\n",
    "    \n",
    "    @property\n",
    "    def products(self):\n",
    "        return[ProductParser(e) for e in self.soup.select(products_onpage_locators.PRODUCT)]\n",
    "    "
   ]
  },
  {
   "cell_type": "code",
   "execution_count": 85,
   "metadata": {},
   "outputs": [],
   "source": [
    "page_content = requests.get('http://books.toscrape.com/').content\n",
    "page = ProductsPage(page_content)"
   ]
  },
  {
   "cell_type": "code",
   "execution_count": 88,
   "metadata": {},
   "outputs": [
    {
     "name": "stdout",
     "output_type": "stream",
     "text": [
      "<Title A Light in the Attic priced at £51.77>\n",
      "<Title Tipping the Velvet priced at £53.74>\n",
      "<Title Soumission priced at £50.10>\n",
      "<Title Sharp Objects priced at £47.82>\n",
      "<Title Sapiens: A Brief History of Humankind priced at £54.23>\n",
      "<Title The Requiem Red priced at £22.65>\n",
      "<Title The Dirty Little Secrets of Getting Your Dream Job priced at £33.34>\n",
      "<Title The Coming Woman: A Novel Based on the Life of the Infamous Feminist, Victoria Woodhull priced at £17.93>\n",
      "<Title The Boys in the Boat: Nine Americans and Their Epic Quest for Gold at the 1936 Berlin Olympics priced at £22.60>\n",
      "<Title The Black Maria priced at £52.15>\n",
      "<Title Starving Hearts (Triangular Trade Trilogy, #1) priced at £13.99>\n",
      "<Title Shakespeare's Sonnets priced at £20.66>\n",
      "<Title Set Me Free priced at £17.46>\n",
      "<Title Scott Pilgrim's Precious Little Life (Scott Pilgrim #1) priced at £52.29>\n",
      "<Title Rip it Up and Start Again priced at £35.02>\n",
      "<Title Our Band Could Be Your Life: Scenes from the American Indie Underground, 1981-1991 priced at £57.25>\n",
      "<Title Olio priced at £23.88>\n",
      "<Title Mesaerion: The Best Science Fiction Stories 1800-1849 priced at £37.59>\n",
      "<Title Libertarianism for Beginners priced at £51.33>\n",
      "<Title It's Only the Himalayas priced at £45.17>\n"
     ]
    }
   ],
   "source": [
    "for products in page.products:\n",
    "    print(products)"
   ]
  },
  {
   "cell_type": "code",
   "execution_count": null,
   "metadata": {},
   "outputs": [],
   "source": []
  }
 ],
 "metadata": {
  "kernelspec": {
   "display_name": "Python 3",
   "language": "python",
   "name": "python3"
  },
  "language_info": {
   "codemirror_mode": {
    "name": "ipython",
    "version": 3
   },
   "file_extension": ".py",
   "mimetype": "text/x-python",
   "name": "python",
   "nbconvert_exporter": "python",
   "pygments_lexer": "ipython3",
   "version": "3.7.5"
  }
 },
 "nbformat": 4,
 "nbformat_minor": 2
}
