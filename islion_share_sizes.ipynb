{
 "cells": [
  {
   "cell_type": "code",
   "execution_count": 1,
   "metadata": {},
   "outputs": [],
   "source": [
    "import numpy as np\n",
    "import pandas as pd\n",
    "\n",
    "import matplotlib.pyplot as plt\n",
    "import seaborn as sns\n",
    "\n",
    "%matplotlib inline\n",
    "sns.set()"
   ]
  },
  {
   "cell_type": "code",
   "execution_count": 95,
   "metadata": {},
   "outputs": [
    {
     "name": "stdout",
     "output_type": "stream",
     "text": [
      "1072.30620672\n"
     ]
    }
   ],
   "source": [
    "import os\n",
    "total_size = 0\n",
    "start_path = '\\\\\\\\co1sufsc01.redmond.corp.microsoft.com\\\\sqldump\\TFSOFF4SCL'  # To get size of current directory\n",
    "for path, dirs, files in os.walk(start_path):\n",
    "    for f in files:\n",
    "        fp = os.path.join(path, f)\n",
    "        total_size += os.path.getsize(fp)\n",
    "print(total_size*1e-9)"
   ]
  },
  {
   "cell_type": "code",
   "execution_count": 80,
   "metadata": {},
   "outputs": [],
   "source": [
    "file1 = open(\"C://temp/Clusters.txt\",'r+')\n",
    "prod_list = [x.strip('\\n') for x in file1.readlines()]\n"
   ]
  },
  {
   "cell_type": "code",
   "execution_count": 96,
   "metadata": {
    "scrolled": true
   },
   "outputs": [
    {
     "name": "stdout",
     "output_type": "stream",
     "text": [
      "0.0\n",
      "1072.30620672\n",
      "7000.779963904\n",
      "10227.85178112\n",
      "7817.855144448001\n",
      "2859.796465664\n",
      "9549.682456576\n",
      "1027.500289536\n",
      "0.0\n",
      "10680.456083456\n",
      "9670.811186176\n",
      "331.2284288\n",
      "4548.3896722770005\n",
      "1626.4355435520001\n",
      "9903.456661502001\n",
      "983.6964812800001\n",
      "4924.742928896\n",
      "0.0\n",
      "8580.459371008\n",
      "7.323075584000001\n",
      "0.0\n",
      "251.884811944\n",
      "216.51724288000003\n",
      "0.0\n"
     ]
    }
   ],
   "source": [
    "s_dict = {}\n",
    "for start_path in prod_list:\n",
    "    total_size=0\n",
    "    for path, dirs, files in os.walk(start_path):\n",
    "        for f in files:\n",
    "            fp = os.path.join(path, f)\n",
    "            total_size += os.path.getsize(fp)\n",
    "    s_dict[start_path] = total_size*1e-9\n",
    "    print(total_size*1e-9)"
   ]
  },
  {
   "cell_type": "code",
   "execution_count": 97,
   "metadata": {
    "scrolled": true
   },
   "outputs": [
    {
     "data": {
      "text/plain": [
       "{'\\\\\\\\co1sufsc01.redmond.corp.microsoft.com\\\\sqldump\\\\TFSCDM4SCL': 0.0,\n",
       " '\\\\\\\\co1sufsc01.redmond.corp.microsoft.com\\\\sqldump\\\\TFSOFF4SCL': 1072.30620672,\n",
       " '\\\\\\\\co1sufsc01.redmond.corp.microsoft.com\\\\sqldump\\\\TFSCON34SCL': 7000.779963904,\n",
       " '\\\\\\\\co1sufsc01.redmond.corp.microsoft.com\\\\sqldump\\\\TFSCON44SCL': 10227.85178112,\n",
       " '\\\\\\\\co1sufsc01.redmond.corp.microsoft.com\\\\sqldump\\\\TFSCON54SCL': 7817.855144448001,\n",
       " '\\\\\\\\co1sufsc01.redmond.corp.microsoft.com\\\\sqldump\\\\TFSCON74SCL': 2859.796465664,\n",
       " '\\\\\\\\co1sufsc01.redmond.corp.microsoft.com\\\\sqldump\\\\TFSCON14SCL': 9549.682456576,\n",
       " '\\\\\\\\co1sufsc01.redmond.corp.microsoft.com\\\\sqldump\\\\TFSCON84SCL': 1027.500289536,\n",
       " '\\\\\\\\co1sufsc01.redmond.corp.microsoft.com\\\\sqldump\\\\TFSDEVDIV4SCL': 0.0,\n",
       " '\\\\\\\\co1sufsc01.redmond.corp.microsoft.com\\\\sqldump\\\\TFSIEB4SCL': 10680.456083456,\n",
       " '\\\\\\\\co1sufsc01.redmond.corp.microsoft.com\\\\sqldump\\\\TFSXXB4SCL': 9670.811186176,\n",
       " '\\\\\\\\co1sufsc01.redmond.corp.microsoft.com\\\\sqldump\\\\TFSGFS4SCL': 331.2284288,\n",
       " '\\\\\\\\co1sufsc01.redmond.corp.microsoft.com\\\\sqldump\\\\TFSMBS4SCL': 4548.3896722770005,\n",
       " '\\\\\\\\co1sufsc01.redmond.corp.microsoft.com\\\\sqldump\\\\TFSCIS4SCL': 1626.4355435520001,\n",
       " '\\\\\\\\co1sufsc01.redmond.corp.microsoft.com\\\\sqldump\\\\TFSIT14SCL': 9903.456661502001,\n",
       " '\\\\\\\\co1sufsc01.redmond.corp.microsoft.com\\\\sqldump\\\\TFSMTESCL1': 983.6964812800001,\n",
       " '\\\\\\\\co1sufsc01.redmond.corp.microsoft.com\\\\sqldump\\\\TFSWAZ4SCL': 4924.742928896,\n",
       " '\\\\\\\\co1sufsc01.redmond.corp.microsoft.com\\\\sqldump\\\\TFSSQLBU4SCLB': 0.0,\n",
       " '\\\\\\\\co1sufsc01.redmond.corp.microsoft.com\\\\sqldump\\\\TFSXBOX4SCL': 8580.459371008,\n",
       " '\\\\\\\\co1sufsc01.redmond.corp.microsoft.com\\\\sqldump\\\\TFSOFF4SCL2': 7.323075584000001,\n",
       " '\\\\\\\\co1sufsc01.redmond.corp.microsoft.com\\\\sqldump\\\\TFSDEVDIV4SCLA': 0.0,\n",
       " '\\\\\\\\co1sufsc01.redmond.corp.microsoft.com\\\\sqldump\\\\TFSWAZ4SCL2': 251.884811944,\n",
       " '\\\\\\\\co1sufsc01.redmond.corp.microsoft.com\\\\sqldump\\\\TFSXBOX4SCL2': 216.51724288000003,\n",
       " '\\\\\\\\co1sufsc01.redmond.corp.microsoft.com\\\\sqldump\\\\TFSSQLBUSCLC': 0.0}"
      ]
     },
     "execution_count": 97,
     "metadata": {},
     "output_type": "execute_result"
    }
   ],
   "source": [
    "s_dict"
   ]
  },
  {
   "cell_type": "code",
   "execution_count": 127,
   "metadata": {},
   "outputs": [],
   "source": [
    "df = pd.DataFrame(data=s_dict.values(),columns=['Size in GB'], index=prod_list)"
   ]
  },
  {
   "cell_type": "code",
   "execution_count": 128,
   "metadata": {},
   "outputs": [],
   "source": [
    "df.reset_index(level=0, inplace=True)"
   ]
  },
  {
   "cell_type": "code",
   "execution_count": 129,
   "metadata": {
    "scrolled": true
   },
   "outputs": [],
   "source": [
    "df = df.rename(columns={'index': 'Full Path'})"
   ]
  },
  {
   "cell_type": "code",
   "execution_count": 130,
   "metadata": {},
   "outputs": [],
   "source": [
    "df['Clustername'] = df['Full Path'].apply(lambda x: x.split('\\\\')[-1])"
   ]
  },
  {
   "cell_type": "code",
   "execution_count": 131,
   "metadata": {},
   "outputs": [],
   "source": [
    "df = df[['Clustername', 'Size in GB']]"
   ]
  },
  {
   "cell_type": "code",
   "execution_count": 133,
   "metadata": {
    "scrolled": true
   },
   "outputs": [
    {
     "name": "stdout",
     "output_type": "stream",
     "text": [
      "       Clustername    Size in GB\n",
      "0       TFSCDM4SCL      0.000000\n",
      "1       TFSOFF4SCL   1072.306207\n",
      "2      TFSCON34SCL   7000.779964\n",
      "3      TFSCON44SCL  10227.851781\n",
      "4      TFSCON54SCL   7817.855144\n",
      "5      TFSCON74SCL   2859.796466\n",
      "6      TFSCON14SCL   9549.682457\n",
      "7      TFSCON84SCL   1027.500290\n",
      "8    TFSDEVDIV4SCL      0.000000\n",
      "9       TFSIEB4SCL  10680.456083\n",
      "10      TFSXXB4SCL   9670.811186\n",
      "11      TFSGFS4SCL    331.228429\n",
      "12      TFSMBS4SCL   4548.389672\n",
      "13      TFSCIS4SCL   1626.435544\n",
      "14      TFSIT14SCL   9903.456662\n",
      "15      TFSMTESCL1    983.696481\n",
      "16      TFSWAZ4SCL   4924.742929\n",
      "17   TFSSQLBU4SCLB      0.000000\n",
      "18     TFSXBOX4SCL   8580.459371\n",
      "19     TFSOFF4SCL2      7.323076\n",
      "20  TFSDEVDIV4SCLA      0.000000\n",
      "21     TFSWAZ4SCL2    251.884812\n",
      "22    TFSXBOX4SCL2    216.517243\n",
      "23    TFSSQLBUSCLC      0.000000\n"
     ]
    }
   ],
   "source": [
    "print(df)"
   ]
  },
  {
   "cell_type": "code",
   "execution_count": null,
   "metadata": {},
   "outputs": [],
   "source": [
    "import pandas as pd\n",
    "import os\n",
    "\n",
    "#Get cluster paths\n",
    "file1 = open(\"C://temp/Clusters.txt\",'r+')\n",
    "prod_list = [x.strip('\\n') for x in file1.readlines()]\n",
    "\n",
    "#Calculate sizes and create a size dict\n",
    "s_dict = {}\n",
    "for start_path in prod_list:\n",
    "    total_size=0\n",
    "    for path, dirs, files in os.walk(start_path):\n",
    "        for f in files:\n",
    "            fp = os.path.join(path, f)\n",
    "            total_size += os.path.getsize(fp)\n",
    "    s_dict[start_path] = total_size*1e-9\n",
    "    print(total_size*1e-9)\n",
    "    \n",
    "#Create Pandas Dataframe\n",
    "df = pd.DataFrame(data=s_dict.values(),columns=['Size in GB'], index=prod_list)\n",
    "df.reset_index(level=0, inplace=True)\n",
    "df = df.rename(columns={'index': 'Full Path'})\n",
    "df['Clustername'] = df['Full Path'].apply(lambda x: x.split('\\\\')[-1])\n",
    "df = df[['Clustername', 'Size in GB']]\n",
    "print(df)"
   ]
  }
 ],
 "metadata": {
  "kernelspec": {
   "display_name": "Python 3",
   "language": "python",
   "name": "python3"
  },
  "language_info": {
   "codemirror_mode": {
    "name": "ipython",
    "version": 3
   },
   "file_extension": ".py",
   "mimetype": "text/x-python",
   "name": "python",
   "nbconvert_exporter": "python",
   "pygments_lexer": "ipython3",
   "version": "3.7.5"
  }
 },
 "nbformat": 4,
 "nbformat_minor": 2
}
