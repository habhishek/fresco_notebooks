{
 "cells": [
  {
   "cell_type": "code",
   "execution_count": 1,
   "metadata": {},
   "outputs": [],
   "source": [
    "import requests\n",
    "from bs4 import BeautifulSoup"
   ]
  },
  {
   "cell_type": "code",
   "execution_count": 4,
   "metadata": {},
   "outputs": [],
   "source": [
    "class quote_locators:\n",
    "    \"\"\"Locators for content inside a quote\"\"\"\n",
    "    \n",
    "    CONTENT = 'span.text'\n",
    "    AUTHOR = 'small.author'\n",
    "    TAGS = 'div.tags a.tag'\n",
    "\n",
    "\n",
    "class quote_page_locators:\n",
    "    \"\"\"Locators to find quote divisions inside an html page\"\"\"\n",
    "    \n",
    "    QUOTE = 'div.quote'\n",
    "    \n",
    "\n",
    "class QuoteParser:\n",
    "    \"\"\"take a parent tag of a quote and look for its content/author/tags\"\"\"\n",
    "    \n",
    "    def __init__(self, parent):\n",
    "        self.parent = parent\n",
    "    \n",
    "    def __repr__(self):\n",
    "        return f'<Quote {self.content}, by {self.author}>'\n",
    "    \n",
    "    @property\n",
    "    def content(self):\n",
    "        locator = quote_locators.CONTENT\n",
    "        return(self.parent.select_one(locator).string)\n",
    "    \n",
    "    @property\n",
    "    def author(self):\n",
    "        locator = quote_locators.AUTHOR\n",
    "        return(self.parent.select_one(locator).string)\n",
    "    \n",
    "    @property\n",
    "    def tags(self):\n",
    "        locator = quote_locators.TAGS\n",
    "        return(self.parent.select(locator))\n",
    "\n",
    "\n",
    "class QuotesPage:\n",
    "    \"\"\"take and html page of quotes and parse that to find all the quotes\"\"\"\n",
    "    \n",
    "    def __init__(self,page):\n",
    "        self.soup = BeautifulSoup(page, 'html.parser')\n",
    "    \n",
    "    @property\n",
    "    def quotes(self):\n",
    "        return[QuoteParser(e) for e in self.soup.select(quote_page_locators.QUOTE)]\n",
    "\n"
   ]
  },
  {
   "cell_type": "code",
   "execution_count": 5,
   "metadata": {},
   "outputs": [
    {
     "name": "stdout",
     "output_type": "stream",
     "text": [
      "<Quote “The world as we have created it is a process of our thinking. It cannot be changed without changing our thinking.”, by Albert Einstein>\n",
      "<Quote “It is our choices, Harry, that show what we truly are, far more than our abilities.”, by J.K. Rowling>\n",
      "<Quote “There are only two ways to live your life. One is as though nothing is a miracle. The other is as though everything is a miracle.”, by Albert Einstein>\n",
      "<Quote “The person, be it gentleman or lady, who has not pleasure in a good novel, must be intolerably stupid.”, by Jane Austen>\n",
      "<Quote “Imperfection is beauty, madness is genius and it's better to be absolutely ridiculous than absolutely boring.”, by Marilyn Monroe>\n",
      "<Quote “Try not to become a man of success. Rather become a man of value.”, by Albert Einstein>\n",
      "<Quote “It is better to be hated for what you are than to be loved for what you are not.”, by André Gide>\n",
      "<Quote “I have not failed. I've just found 10,000 ways that won't work.”, by Thomas A. Edison>\n",
      "<Quote “A woman is like a tea bag; you never know how strong it is until it's in hot water.”, by Eleanor Roosevelt>\n",
      "<Quote “A day without sunshine is like, you know, night.”, by Steve Martin>\n"
     ]
    }
   ],
   "source": [
    "page_content = requests.get('http://quotes.toscrape.com/').content\n",
    "page = QuotesPage(page_content)\n",
    "\n",
    "for quote in page.quotes:\n",
    "    print(quote)"
   ]
  },
  {
   "cell_type": "code",
   "execution_count": null,
   "metadata": {},
   "outputs": [],
   "source": []
  }
 ],
 "metadata": {
  "kernelspec": {
   "display_name": "Python 3",
   "language": "python",
   "name": "python3"
  },
  "language_info": {
   "codemirror_mode": {
    "name": "ipython",
    "version": 3
   },
   "file_extension": ".py",
   "mimetype": "text/x-python",
   "name": "python",
   "nbconvert_exporter": "python",
   "pygments_lexer": "ipython3",
   "version": "3.7.5"
  }
 },
 "nbformat": 4,
 "nbformat_minor": 2
}
